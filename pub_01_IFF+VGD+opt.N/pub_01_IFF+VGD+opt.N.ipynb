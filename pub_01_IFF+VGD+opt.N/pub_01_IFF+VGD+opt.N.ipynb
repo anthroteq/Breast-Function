{
 "cells": [
  {
   "cell_type": "markdown",
   "id": "3cf64924-e76f-4336-94e1-84fca0e6a48e",
   "metadata": {},
   "source": [
    "# IFF+VGD+opt.N model\n",
    "Inflatable Fat Function, Variable Gravity Distribution and optimized Nipple angle model(膨張可能脂肪体関数+変動重力分布+乳首法線最適化モデル)は，既存のおっぱい関数を発展させたおっぱい関数である．\n",
    "\n",
    "インタラクティブなグラフはこちら．パラメータを選ぶのにも使える；\n",
    "[Desmos](https://www.desmos.com/3d/nw4wc8exj4)\n",
    "\n",
    "仮定や導出に関しては記事を参照すること；\n",
    "[Qiita](https://qiita.com/anthroteq/items/7dc3dd430a041194fe6f)"
   ]
  },
  {
   "cell_type": "markdown",
   "id": "658888b6-094d-40f2-8c04-52873b414f69",
   "metadata": {},
   "source": [
    "## Analytic approach\n",
    "まずはモデルを解析的に導いていく\n",
    "\n",
    "注: 明示的に書いていない部分の数式の表示は推奨しない．複雑な式になっているため，texのレンダリングのせいでJupyterが落ちる可能性がある"
   ]
  },
  {
   "cell_type": "code",
   "execution_count": 1,
   "id": "01a1dd9f-8860-4c63-80f1-a4da660ba99d",
   "metadata": {},
   "outputs": [],
   "source": [
    "import sympy as sy\n",
    "\n",
    "class vector3D(sy.Matrix):\n",
    "    def __new__(cls, *args, **kwargs):\n",
    "        instance = sy.Matrix.__new__(cls, *args, **kwargs)\n",
    "        return instance\n",
    "    @property\n",
    "    def x(self):\n",
    "        return self[0]\n",
    "    @property\n",
    "    def y(self):\n",
    "        return self[1]\n",
    "    @property\n",
    "    def z(self):\n",
    "        return self[2]\n",
    "    @x.setter\n",
    "    def x(self, v):\n",
    "        self[0] = v\n",
    "    @y.setter\n",
    "    def y(self, v):\n",
    "        self[1] = v\n",
    "    @z.setter\n",
    "    def z(self, v):\n",
    "        self[2] = v"
   ]
  },
  {
   "cell_type": "code",
   "execution_count": 2,
   "id": "245208e5-0439-483b-aa60-907542e652de",
   "metadata": {},
   "outputs": [],
   "source": [
    "x = sy.symbols('x',real=True,positive=True)\n",
    "y,z = sy.symbols('y,z',real=True)"
   ]
  },
  {
   "cell_type": "code",
   "execution_count": 3,
   "id": "6d237bb5-01ed-4203-8108-fae58c10779e",
   "metadata": {},
   "outputs": [
    {
     "data": {
      "text/latex": [
       "$\\displaystyle \\frac{\\sqrt{- a y y_{s} z + b x - y^{2} y_{s}^{2} - z^{2} + 1}}{\\sqrt{b + 1}}$"
      ],
      "text/plain": [
       "sqrt(-a*y*y_s*z + b*x - y**2*y_s**2 - z**2 + 1)/sqrt(b + 1)"
      ]
     },
     "execution_count": 3,
     "metadata": {},
     "output_type": "execute_result"
    }
   ],
   "source": [
    "# 脂肪体関数の定義\n",
    "a,b = sy.symbols('a,b',real=True)\n",
    "y_s = sy.symbols('y_s',real=True,positive=True)\n",
    "f_pre = 1/sy.sqrt(1+b)*sy.sqrt(1+b*x-( (y_s*y)**2+z**2+a*y_s*y*z) )\n",
    "f_pre"
   ]
  },
  {
   "cell_type": "code",
   "execution_count": 4,
   "id": "365a35ea-3fd4-4beb-ac0e-41da0bb71d96",
   "metadata": {},
   "outputs": [
    {
     "data": {
      "text/plain": [
       "[{x: x_ray*(b*x_ray - sqrt(4*a*y_ray*y_s*z_ray + b**2*x_ray**2 + 4*b*x_ray**2 + 4*x_ray**2 + 4*y_ray**2*y_s**2 + 4*z_ray**2))/(2*(a*y_ray*y_s*z_ray + b*x_ray**2 + x_ray**2 + y_ray**2*y_s**2 + z_ray**2)),\n",
       "  y: y_ray*(b*x_ray - sqrt(4*a*y_ray*y_s*z_ray + b**2*x_ray**2 + 4*b*x_ray**2 + 4*x_ray**2 + 4*y_ray**2*y_s**2 + 4*z_ray**2))/(2*(a*y_ray*y_s*z_ray + b*x_ray**2 + x_ray**2 + y_ray**2*y_s**2 + z_ray**2)),\n",
       "  z: z_ray*(b*x_ray - sqrt(4*a*y_ray*y_s*z_ray + b**2*x_ray**2 + 4*b*x_ray**2 + 4*x_ray**2 + 4*y_ray**2*y_s**2 + 4*z_ray**2))/(2*(a*y_ray*y_s*z_ray + b*x_ray**2 + x_ray**2 + y_ray**2*y_s**2 + z_ray**2))},\n",
       " {x: x_ray*(b*x_ray + sqrt(4*a*y_ray*y_s*z_ray + b**2*x_ray**2 + 4*b*x_ray**2 + 4*x_ray**2 + 4*y_ray**2*y_s**2 + 4*z_ray**2))/(2*(a*y_ray*y_s*z_ray + b*x_ray**2 + x_ray**2 + y_ray**2*y_s**2 + z_ray**2)),\n",
       "  y: y_ray*(b*x_ray + sqrt(4*a*y_ray*y_s*z_ray + b**2*x_ray**2 + 4*b*x_ray**2 + 4*x_ray**2 + 4*y_ray**2*y_s**2 + 4*z_ray**2))/(2*(a*y_ray*y_s*z_ray + b*x_ray**2 + x_ray**2 + y_ray**2*y_s**2 + z_ray**2)),\n",
       "  z: z_ray*(b*x_ray + sqrt(4*a*y_ray*y_s*z_ray + b**2*x_ray**2 + 4*b*x_ray**2 + 4*x_ray**2 + 4*y_ray**2*y_s**2 + 4*z_ray**2))/(2*(a*y_ray*y_s*z_ray + b*x_ray**2 + x_ray**2 + y_ray**2*y_s**2 + z_ray**2))}]"
      ]
     },
     "execution_count": 4,
     "metadata": {},
     "output_type": "execute_result"
    }
   ],
   "source": [
    "# たわみ前脂肪体関数における乳首座標の計算\n",
    "x_ray = sy.symbols('x_ray',real=True,positive=True)\n",
    "y_ray,z_ray = sy.symbols('y_ray,z_ray',real=True)\n",
    "\n",
    "ans = sy.solve([\n",
    "    f_pre-x,\n",
    "    y_ray/x_ray*x-y,\n",
    "    z_ray/x_ray*x-z\n",
    "],\n",
    "    [x,y,z],dict=True)\n",
    "ans"
   ]
  },
  {
   "cell_type": "code",
   "execution_count": 5,
   "id": "2aae7735-6c94-4244-a885-c7ce55aae7eb",
   "metadata": {},
   "outputs": [
    {
     "data": {
      "text/latex": [
       "$\\displaystyle \\frac{y_{ray} \\left(b x_{ray} - \\sqrt{4 a y_{ray} y_{s} z_{ray} + b^{2} x_{ray}^{2} + 4 b x_{ray}^{2} + 4 x_{ray}^{2} + 4 y_{ray}^{2} y_{s}^{2} + 4 z_{ray}^{2}}\\right)}{2 \\left(a y_{ray} y_{s} z_{ray} + b x_{ray}^{2} + x_{ray}^{2} + y_{ray}^{2} y_{s}^{2} + z_{ray}^{2}\\right)} < \\frac{y_{ray} \\left(b x_{ray} + \\sqrt{4 a y_{ray} y_{s} z_{ray} + b^{2} x_{ray}^{2} + 4 b x_{ray}^{2} + 4 x_{ray}^{2} + 4 y_{ray}^{2} y_{s}^{2} + 4 z_{ray}^{2}}\\right)}{2 \\left(a y_{ray} y_{s} z_{ray} + b x_{ray}^{2} + x_{ray}^{2} + y_{ray}^{2} y_{s}^{2} + z_{ray}^{2}\\right)}$"
      ],
      "text/plain": [
       "y_ray*(b*x_ray - sqrt(4*a*y_ray*y_s*z_ray + b**2*x_ray**2 + 4*b*x_ray**2 + 4*x_ray**2 + 4*y_ray**2*y_s**2 + 4*z_ray**2))/(2*(a*y_ray*y_s*z_ray + b*x_ray**2 + x_ray**2 + y_ray**2*y_s**2 + z_ray**2)) < y_ray*(b*x_ray + sqrt(4*a*y_ray*y_s*z_ray + b**2*x_ray**2 + 4*b*x_ray**2 + 4*x_ray**2 + 4*y_ray**2*y_s**2 + 4*z_ray**2))/(2*(a*y_ray*y_s*z_ray + b*x_ray**2 + x_ray**2 + y_ray**2*y_s**2 + z_ray**2))"
      ]
     },
     "execution_count": 5,
     "metadata": {},
     "output_type": "execute_result"
    }
   ],
   "source": [
    "ans[0][y]<ans[1][y]#正である方が解"
   ]
  },
  {
   "cell_type": "code",
   "execution_count": 6,
   "id": "b6147679-bb4c-4735-9ebe-8055788ee2fd",
   "metadata": {},
   "outputs": [],
   "source": [
    "x_pre = ans[1][x]\n",
    "y_pre = ans[1][y]\n",
    "z_pre = ans[1][z]\n",
    "P_pre = vector3D([x_pre, y_pre, z_pre])"
   ]
  },
  {
   "cell_type": "code",
   "execution_count": 7,
   "id": "1ef67a97-7654-4419-b6f1-69b15e3417e0",
   "metadata": {},
   "outputs": [
    {
     "data": {
      "text/latex": [
       "$\\displaystyle \\frac{g m \\left(\\delta \\left(\\frac{b x}{L} - \\frac{x^{2} \\left(b + 1\\right)}{L^{2}}\\right) + 1\\right)}{L} + \\frac{\\gamma e^{-1 + \\frac{x}{L}}}{L^{2}}$"
      ],
      "text/plain": [
       "g*m*(delta*(b*x/L - x**2*(b + 1)/L**2) + 1)/L + gamma*exp(-1 + x/L)/L**2"
      ]
     },
     "execution_count": 7,
     "metadata": {},
     "output_type": "execute_result"
    }
   ],
   "source": [
    "# 重力分布の定義\n",
    "L = sy.symbols('L',real=True,positive=True)\n",
    "\n",
    "## 面積に比例する重力分布項の定義\n",
    "m = sy.symbols('m',real=True,positive=True)\n",
    "g = sy.symbols('g',real=True,negative=True)\n",
    "delta = sy.symbols('delta',real=True,positive=True)\n",
    "ans = sy.solve(f_pre.subs(y,0)-x,z)\n",
    "S = ans[0]**2\n",
    "q_gravity = m*g/L*(1+delta*(S.subs(x,x/L)-1))\n",
    "\n",
    "## 反重力項の定義\n",
    "gamma = sy.symbols('gamma',real=True,positive=True)\n",
    "q_antigravity = gamma/(L**2)*sy.exp(x/L-1)\n",
    "\n",
    "q = q_gravity + q_antigravity\n",
    "q"
   ]
  },
  {
   "cell_type": "code",
   "execution_count": 8,
   "id": "cecb7573-3599-4290-b8f0-44642415df5b",
   "metadata": {},
   "outputs": [
    {
     "data": {
      "text/latex": [
       "$\\displaystyle \\frac{L^{2} \\gamma e^{-1 + \\frac{x}{L}}}{E I} - \\frac{L^{2} \\gamma}{e E I} + \\frac{x^{2} \\left(L b \\delta g m - 3 L \\delta g m + 6 L g m\\right)}{24 E I} + \\frac{x \\left(e E I d - L \\gamma\\right)}{e E I} + \\frac{g m x^{4}}{24 E I L} + \\frac{x^{3} \\left(- L b \\delta g m + 2 L \\delta g m - 6 L g m - 6 \\gamma\\right)}{36 E I L} + \\frac{b \\delta g m x^{5}}{120 E I L^{2}} + \\frac{\\delta g m x^{6} \\left(- b - 1\\right)}{360 E I L^{3}}$"
      ],
      "text/plain": [
       "L**2*gamma*exp(-1 + x/L)/(E*I) - L**2*gamma*exp(-1)/(E*I) + x**2*(L*b*delta*g*m - 3*L*delta*g*m + 6*L*g*m)/(24*E*I) + x*(E*E*I*d - L*gamma)*exp(-1)/(E*I) + g*m*x**4/(24*E*I*L) + x**3*(-L*b*delta*g*m + 2*L*delta*g*m - 6*L*g*m - 6*gamma)/(36*E*I*L) + b*delta*g*m*x**5/(120*E*I*L**2) + delta*g*m*x**6*(-b - 1)/(360*E*I*L**3)"
      ]
     },
     "execution_count": 8,
     "metadata": {},
     "output_type": "execute_result"
    }
   ],
   "source": [
    "# たわみ関数の計算\n",
    "E,I = sy.symbols('E,I',real=True,positive=True)\n",
    "d = sy.symbols('d',real=True,negative=True)\n",
    "v = sy.Function('v',real=True)\n",
    "\n",
    "eq = sy.Eq(sy.Derivative(sy.Derivative(E*I*sy.Derivative(sy.Derivative(v(x),x),x),x),x),q)\n",
    "v = sy.dsolve(eq,ics={v(x).subs(x,0):0,\n",
    "                  sy.diff(v(x),x,1).subs(x,0):d,\n",
    "                  sy.diff(v(x),x,2).subs(x,L):0,\n",
    "                  sy.diff(v(x),x,3).subs(x,L):0}).rhs\n",
    "v"
   ]
  },
  {
   "cell_type": "code",
   "execution_count": 9,
   "id": "846703d5-36c4-4003-b16a-04113c03f977",
   "metadata": {},
   "outputs": [],
   "source": [
    "# たわみ後脂肪体関数とたわみ後乳首座標の計算\n",
    "f_post = L*f_pre.subs({x:x/L,z:z-v})\n",
    "P_post = vector3D([L*P_pre.x,P_pre.y,P_pre.z+v.subs(x,L*P_pre.x)])"
   ]
  },
  {
   "cell_type": "code",
   "execution_count": 10,
   "id": "1b9623df-2c50-4a79-8394-bccfef10f07b",
   "metadata": {},
   "outputs": [],
   "source": [
    "# たわみ後脂肪体関数における乳首座標での法線計算\n",
    "F = x - f_post\n",
    "nabla_F = vector3D([sy.diff(F,x,1),sy.diff(F,y,1),sy.diff(F,z,1)])\n",
    "\n",
    "R = nabla_F.subs({x:P_post.x,y:P_post.y,z:P_post.z})"
   ]
  },
  {
   "cell_type": "code",
   "execution_count": 11,
   "id": "7a8681d0-661c-4e41-9cae-62193a79c592",
   "metadata": {},
   "outputs": [],
   "source": [
    "# 回転軸と回転量の計算\n",
    "def rodrigues(C,q):\n",
    "    X = sy.Matrix([\n",
    "        [C.x**2*(1-sy.cos(q))+sy.cos(q),C.x*C.y*(1-sy.cos(q))-C.z*sy.sin(q),C.x*C.z*(1-sy.cos(q))+C.y*sy.sin(q)],\n",
    "        [C.x*C.y*(1-sy.cos(q))+C.z*sy.sin(q),C.y**2*(1-sy.cos(q))+sy.cos(q),C.y*C.z*(1-sy.cos(q))-C.x*sy.sin(q)],\n",
    "        [C.x*C.z*(1-sy.cos(q))-C.y*sy.sin(q),C.y*C.z*(1-sy.cos(q))+C.x*sy.sin(q),C.z**2*(1-sy.cos(q))+sy.cos(q)]\n",
    "    ])\n",
    "    return X\n",
    "\n",
    "C_raw = sy.Matrix.cross(R,vector3D([1,0,0]))\n",
    "C = C_raw.normalized()\n",
    "\n",
    "R_normalized = R.normalized()\n",
    "q = sy.acos(R_normalized.x)"
   ]
  },
  {
   "cell_type": "code",
   "execution_count": 12,
   "id": "622a21b7-e18c-4f46-9285-9e7fdd5561ea",
   "metadata": {},
   "outputs": [
    {
     "data": {
      "text/latex": [
       "$\\displaystyle t e^{- \\left(\\frac{a y y_{s} z + y^{2} y_{s}^{2} + z^{2}}{s^{2}}\\right)^{k}}$"
      ],
      "text/plain": [
       "t*exp(-((a*y*y_s*z + y**2*y_s**2 + z**2)/s**2)**k)"
      ]
     },
     "execution_count": 12,
     "metadata": {},
     "output_type": "execute_result"
    }
   ],
   "source": [
    "# 乳首関数の定義\n",
    "t,s,k = sy.symbols('t,s,k',real=True,positive=True)\n",
    "n_pre = t*sy.exp(-(((y_s*y)**2+z**2+a*y_s*y*z)/s**2)**k)\n",
    "n_pre"
   ]
  },
  {
   "cell_type": "code",
   "execution_count": 13,
   "id": "9a44f78a-a65a-4dd4-9eeb-ce8377f7da2d",
   "metadata": {},
   "outputs": [],
   "source": [
    "# 回転後座標系の計算\n",
    "co_transformed = rodrigues(C,q) @ vector3D([x,y,z])\n",
    "x_transformed = co_transformed.x.subs({x:x-P_post.x,y:y-P_post.y,z:z-P_post.z})\n",
    "y_transformed = co_transformed.y.subs({x:x-P_post.x,y:y-P_post.y,z:z-P_post.z})\n",
    "z_transformed = co_transformed.z.subs({x:x-P_post.x,y:y-P_post.y,z:z-P_post.z})"
   ]
  },
  {
   "cell_type": "code",
   "execution_count": 14,
   "id": "2387fc15-5620-46ef-b43c-baf91ad76a3c",
   "metadata": {},
   "outputs": [],
   "source": [
    "# 回転後乳首関数の計算\n",
    "n_post = t/sy.cos(q)*(n_pre.subs({y:y_transformed,z:z_transformed,t:1}) - (-C.z*sy.sin(q)*(y-P_post.y)+C.y*sy.sin(q)*(z-P_post.z)))"
   ]
  },
  {
   "cell_type": "code",
   "execution_count": 15,
   "id": "6247f7d0-3e84-43cb-a0a3-4c99ea8ce769",
   "metadata": {},
   "outputs": [],
   "source": [
    "# 乳首領域関数の計算\n",
    "V = n_pre.subs({y:y_transformed,z:z_transformed,t:1})"
   ]
  },
  {
   "cell_type": "code",
   "execution_count": 16,
   "id": "7ecbe7ff-30bc-4583-881b-90e6ae90a593",
   "metadata": {},
   "outputs": [],
   "source": [
    "# モデルの組み立て\n",
    "t_1,s_1,k_1 = sy.symbols('t_1,s_1,k_1',real=True)\n",
    "t_2,s_2,k_2 = sy.symbols('t_2,s_2,k_2',real=True)\n",
    "eq = sy.Eq(x,f_post+n_post.subs({t:t_1,s:s_1,k:k_1})*V.subs({t:t_1,s:s_1,k:k_1})+n_post.subs({t:t_2,s:s_2,k:k_2})*V.subs({t:t_2,s:s_2,k:k_2}))"
   ]
  },
  {
   "cell_type": "code",
   "execution_count": 17,
   "id": "3b807314-3ff7-4bd7-a7ab-c726b75cfe7b",
   "metadata": {},
   "outputs": [],
   "source": [
    "# 解析解の保存(必要ならば実行)\n",
    "with open('pub_01_IFF+VGD+opt.N_analytic-solution.tex','wt') as f:\n",
    "    f.write(sy.latex(eq))"
   ]
  },
  {
   "cell_type": "code",
   "execution_count": 18,
   "id": "5c12f876-acb5-4e1a-8525-d5160e238fe1",
   "metadata": {},
   "outputs": [],
   "source": [
    "# もしラムダ関数を更新したいなら実行(cupy)\n",
    "import dill\n",
    "\n",
    "eq_zero = eq.rhs-eq.lhs\n",
    "eq_zero_lambda_cp = sy.lambdify((\n",
    "    x,y,z,\n",
    "    x_ray,y_ray,z_ray,\n",
    "    a,y_s,b,\n",
    "    m,g,L,E,I,d,delta,gamma,\n",
    "    t_1,s_1,k_1,\n",
    "    t_2,s_2,k_2\n",
    "),eq_zero,modules='cupy')\n",
    "\n",
    "with open('pub_01_IFF+VGD+opt.N_for_numerical-solution_cp.dill','wb') as f:\n",
    "    dill.dump(eq_zero_lambda_cp,f)"
   ]
  },
  {
   "cell_type": "code",
   "execution_count": 19,
   "id": "3e757705-1212-48fb-be79-a063fe5b0c1f",
   "metadata": {},
   "outputs": [],
   "source": [
    "# もしラムダ関数を更新したいなら実行(numpy)\n",
    "import dill\n",
    "\n",
    "eq_zero = eq.rhs-eq.lhs\n",
    "eq_zero_lambda_np = sy.lambdify((\n",
    "    x,y,z,\n",
    "    x_ray,y_ray,z_ray,\n",
    "    a,y_s,b,\n",
    "    m,g,L,E,I,d,delta,gamma,\n",
    "    t_1,s_1,k_1,\n",
    "    t_2,s_2,k_2\n",
    "),eq_zero,modules='numpy')\n",
    "\n",
    "with open('pub_01_IFF+VGD+opt.N_for_numerical-solution_np.dill','wb') as f:\n",
    "    dill.dump(eq_zero_lambda_np,f)"
   ]
  },
  {
   "cell_type": "markdown",
   "id": "264495fb-164a-4c84-88fa-d747eea0c59b",
   "metadata": {},
   "source": [
    "## Numerical approach\n",
    "ここからはモデルを数値的に解いて，実際にプロットを行う．とはいえ，解析解は得ているので，パラメータを代入するだけだ\n",
    "\n",
    "注: GPUでの実行を強くおすすめする．自身の環境で実行したところ，$400 \\times 400 \\times 400$のグリッドで，CPU，GPUでの実行時間はそれぞれ\n",
    "+ CPU: 52.5 s ± 757 ms per loop (mean ± std. dev. of 7 runs, 1 loop each)\n",
    "+ GPU: 1.94 s ± 8.03 ms per loop (mean ± std. dev. of 7 runs, 1 loop each)\n",
    "\n",
    "と約2倍の差があった．numpyでの実行についてベクトル化も思いついたが，実施したところ，検証不可能なほど遅くなった．"
   ]
  },
  {
   "cell_type": "code",
   "execution_count": 20,
   "id": "317e0d36-68ff-416b-a8d4-ffdd794cbaf0",
   "metadata": {},
   "outputs": [],
   "source": [
    "from mayavi import mlab"
   ]
  },
  {
   "cell_type": "code",
   "execution_count": 21,
   "id": "24b8c678-1b25-4fe0-be41-8ec33515b27f",
   "metadata": {},
   "outputs": [],
   "source": [
    "# ここにパラメータを設定\n",
    "params = {\n",
    "    'x_ray':2.00,#乳首レイ発射座標\n",
    "    'y_ray':0.00,\n",
    "    'z_ray':0.50,\n",
    "    'a':0.60,#脂肪体関数パラメータ\n",
    "    'y_s':1.1,\n",
    "    'b':1.00,\n",
    "    'm':0.006,#たわみ関数パラメータ\n",
    "    'g':-9.8,\n",
    "    'L':1.00,\n",
    "    'E':0.1,\n",
    "    'I':0.1,\n",
    "    'd':-0.8,\n",
    "    'delta':0.28,\n",
    "    'gamma':0.10,\n",
    "    't_1':0.07,#乳頭パラメータ\n",
    "    's_1':0.1,\n",
    "    'k_1':2.5,\n",
    "    't_2':0.05,#乳輪パラメータ\n",
    "    's_2':0.25,\n",
    "    'k_2':3.3\n",
    "}"
   ]
  },
  {
   "cell_type": "code",
   "execution_count": 22,
   "id": "5add6967-8bda-43f0-8ac6-1d5e465746c5",
   "metadata": {},
   "outputs": [],
   "source": [
    "# もしcupyのラムダ関数を使うならこれを実行\n",
    "import dill\n",
    "import cupy as cp\n",
    "import numpy as np\n",
    "\n",
    "with open('pub_01_IFF+VGD+opt.N_for_numerical-solution_cp.dill','rb') as f:\n",
    "    breast_func = dill.load(f)\n",
    "\n",
    "X_c = cp.linspace(0,2,200)\n",
    "Y_c = cp.linspace(-2,2,400)\n",
    "Z_c = cp.linspace(-2,2,400)\n",
    "X_c,Y_c,Z_c = cp.meshgrid(X_c,Y_c,Z_c,indexing='ij')\n",
    "values_c = cp.asnumpy(breast_func(X_c,Y_c,Z_c,*params.values()))\n",
    "X = cp.asnumpy(X_c)\n",
    "Y = cp.asnumpy(Y_c)\n",
    "Z = cp.asnumpy(Z_c)\n",
    "values = cp.asnumpy(values_c)"
   ]
  },
  {
   "cell_type": "code",
   "execution_count": 23,
   "id": "c1d70f53-228c-4327-bda2-cdb2f62f5f45",
   "metadata": {},
   "outputs": [],
   "source": [
    "# もしnumpyのラムダ関数を使うならこれを実行\n",
    "import dill\n",
    "import numpy as np\n",
    "\n",
    "with open('pub_01_IFF+VGD+opt.N_for_numerical-solution_np.dill','rb') as f:\n",
    "    breast_func = dill.load(f)\n",
    "\n",
    "X = np.linspace(0,2,200)\n",
    "Y = np.linspace(-2,2,400)\n",
    "Z = np.linspace(-2,2,400)\n",
    "X,Y,Z = np.meshgrid(X,Y,Z,indexing='ij')\n",
    "values = breast_func(X,Y,Z,*params.values())"
   ]
  },
  {
   "cell_type": "code",
   "execution_count": 24,
   "id": "01fb39ee-a7e2-4f0e-a8bc-b075a63f7131",
   "metadata": {},
   "outputs": [],
   "source": [
    "# プロット\n",
    "color = [200, 200, 200, 255]\n",
    "lut = np.zeros((2, 4), dtype=int)\n",
    "lut[0, :] = color\n",
    "lut[1, :] = color\n",
    "\n",
    "mlab.clf()\n",
    "contour = mlab.contour3d(X,Y,Z, values,contours=[0])\n",
    "contour.module_manager.scalar_lut_manager.lut.table = lut\n",
    "contour.module_manager.scalar_lut_manager.lut.number_of_colors = 2\n",
    "mlab.axes()\n",
    "mlab.show()"
   ]
  },
  {
   "cell_type": "code",
   "execution_count": 25,
   "id": "86f3a8f0-161e-4433-aff2-eda4e942bb9b",
   "metadata": {},
   "outputs": [],
   "source": [
    "# 3Dで保存したければこちらを実行\n",
    "from datetime import datetime\n",
    "import json,os\n",
    "\n",
    "now = datetime.now().strftime('%Y%m%d-%H%M%S')\n",
    "filename = 'pub_01_IFF+VGD+opt.N_numerical-solution_'+now\n",
    "\n",
    "params_txt = {repr(k):v for k,v in params.items()}\n",
    "with open(filename+'.json','wt') as f:\n",
    "    json.dump(params_txt,f,indent=4)\n",
    "\n",
    "mlab.clf()\n",
    "mlab.contour3d(X, Z, Y, values,contours=[0])\n",
    "mlab.savefig(filename+'.obj')\n",
    "mlab.close()\n",
    "os.remove(filename+'.mtl')#いらない\n",
    "\n",
    "#Blenderで読み込む場合は，上向きの軸を+Z, 前向きの軸を+Yにすると良い．"
   ]
  }
 ],
 "metadata": {
  "kernelspec": {
   "display_name": "Python_titfunc312",
   "language": "python",
   "name": "titfunc_312"
  },
  "language_info": {
   "codemirror_mode": {
    "name": "ipython",
    "version": 3
   },
   "file_extension": ".py",
   "mimetype": "text/x-python",
   "name": "python",
   "nbconvert_exporter": "python",
   "pygments_lexer": "ipython3",
   "version": "3.12.9"
  },
  "vscode": {
   "interpreter": {
    "hash": "4da833abea19e5fe9d48620d839b003cf6330c4002d3d510740ea19bf76fe3ee"
   }
  }
 },
 "nbformat": 4,
 "nbformat_minor": 5
}
